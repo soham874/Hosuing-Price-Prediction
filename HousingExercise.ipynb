{
 "cells": [
  {
   "cell_type": "code",
   "execution_count": 7,
   "id": "52b28b38",
   "metadata": {},
   "outputs": [],
   "source": [
    "# block to run tests\n",
    "from IPython.core.interactiveshell import InteractiveShell\n",
    "InteractiveShell.ast_node_interactivity = \"all\"\n",
    "\n",
    "import os\n",
    "import tarfile\n",
    "from six.moves import urllib\n",
    "import pandas as pd\n",
    "\n",
    "DOWNLOAD_ROOT = \"https://raw.githubusercontent.com/ageron/handson-ml2/master/\"\n",
    "HOUSING_PATH = os.path.join(\"datasets\", \"housing\")\n",
    "HOUSING_URL = DOWNLOAD_ROOT + \"datasets/housing/housing.tgz\"\n",
    "\n",
    "def fetch_housing_data():\n",
    "    if not os.path.isdir(HOUSING_PATH):\n",
    "        os.makedirs(HOUSING_PATH)\n",
    "    tgz_path = os.path.join(HOUSING_PATH, \"housing.tgz\")\n",
    "    urllib.request.urlretrieve(HOUSING_URL, tgz_path)\n",
    "    housing_tgz = tarfile.open(tgz_path)\n",
    "    housing_tgz.extractall(HOUSING_PATH)\n",
    "    housing_tgz.close()\n",
    "\n",
    "def load_housing_data( ):\n",
    "    csv_path = os.path.join(HOUSING_PATH, \"housing.csv\")\n",
    "    return pd.read_csv(csv_path)\n",
    "\n",
    "fetch_housing_data()\n",
    "housing = load_housing_data()"
   ]
  },
  {
   "cell_type": "code",
   "execution_count": 8,
   "id": "746c6af9",
   "metadata": {},
   "outputs": [],
   "source": [
    "from sklearn.model_selection import StratifiedShuffleSplit\n",
    "import numpy as np\n",
    "\n",
    "housing[\"income_cat\"] = pd.cut(housing[\"median_income\"], bins = [0.,1.5,3.0,4.5,6,np.inf],labels=[1,2,3,4,5])\n",
    "stratfold = StratifiedShuffleSplit(n_splits=1, test_size=0.2, random_state=42)\n",
    "for train_index, test_index in stratfold.split(housing, housing[\"income_cat\"]):\n",
    "    strat_train_set = housing.loc[train_index]\n",
    "    strat_test_set = housing.loc[test_index]\n",
    "\n",
    "for set_ in (strat_train_set, strat_test_set, housing):\n",
    "    set_.drop(\"income_cat\", axis=1, inplace=True)    \n",
    "    \n",
    "housing = strat_train_set.drop(\"median_house_value\",axis = 1)\n",
    "\n",
    "housing_labels = strat_train_set[\"median_house_value\"].copy()"
   ]
  },
  {
   "cell_type": "code",
   "execution_count": 9,
   "id": "120852ea",
   "metadata": {},
   "outputs": [
    {
     "data": {
      "text/plain": [
       "SimpleImputer(strategy='median')"
      ]
     },
     "execution_count": 9,
     "metadata": {},
     "output_type": "execute_result"
    }
   ],
   "source": [
    "from sklearn.impute import SimpleImputer\n",
    "\n",
    "imputer = SimpleImputer(strategy=\"median\")\n",
    "housing_num = housing.drop(\"ocean_proximity\", axis=1)\n",
    "imputer.fit(housing_num)\n",
    "\n",
    "housing_tr = pd.DataFrame(imputer.transform(housing_num), columns=housing_num.columns)"
   ]
  },
  {
   "cell_type": "code",
   "execution_count": 10,
   "id": "229dd62e",
   "metadata": {},
   "outputs": [],
   "source": [
    "from sklearn.base import BaseEstimator, TransformerMixin\n",
    "\n",
    "rooms_ix, bedrooms_ix, population_ix, households_ix = 3, 4, 5, 6\n",
    "\n",
    "class CombinedAttributesAdder(BaseEstimator, TransformerMixin):\n",
    "    def __init__(self, add_bedrooms_per_room = True):\n",
    "        self.add_bedrooms_per_room = add_bedrooms_per_room\n",
    "    \n",
    "    def fit(self, X, y=None):\n",
    "        return self\n",
    "    \n",
    "    def transform(self, X, y=None):\n",
    "        rooms_per_household = X[:, rooms_ix] / X[:, households_ix]\n",
    "        population_per_household = X[:, population_ix] / X[:, households_ix]\n",
    "        if self.add_bedrooms_per_room:\n",
    "            bedrooms_per_room = X[:, bedrooms_ix] / X[:, rooms_ix]\n",
    "            return np.c_[X, rooms_per_household, population_per_household,bedrooms_per_room]\n",
    "        else:\n",
    "            return np.c_[X, rooms_per_household, population_per_household]\n"
   ]
  },
  {
   "cell_type": "code",
   "execution_count": 11,
   "id": "4002cecd",
   "metadata": {},
   "outputs": [],
   "source": [
    "from sklearn.pipeline import Pipeline\n",
    "from sklearn.preprocessing import StandardScaler\n",
    "from sklearn.compose import ColumnTransformer\n",
    "from sklearn.preprocessing import OneHotEncoder\n",
    "\n",
    "num_pipeline = Pipeline([\n",
    "    ('imputer', SimpleImputer(strategy=\"median\")),\n",
    "    ('attribs_adder', CombinedAttributesAdder()),\n",
    "    ('std_scaler', StandardScaler()),\n",
    "    ])\n",
    "\n",
    "num_attribs = list(housing_num)\n",
    "cat_attribs = [\"ocean_proximity\"]\n",
    "full_pipeline = ColumnTransformer([\n",
    "    (\"num\", num_pipeline, num_attribs),\n",
    "    (\"cat\", OneHotEncoder(), cat_attribs),\n",
    "    ])\n",
    "\n",
    "housing_prepared = full_pipeline.fit_transform(housing)"
   ]
  },
  {
   "cell_type": "code",
   "execution_count": 12,
   "id": "1ab299cf",
   "metadata": {},
   "outputs": [
    {
     "data": {
      "text/plain": [
       "LinearRegression()"
      ]
     },
     "execution_count": 12,
     "metadata": {},
     "output_type": "execute_result"
    },
    {
     "data": {
      "text/plain": [
       "68627.87390018745"
      ]
     },
     "execution_count": 12,
     "metadata": {},
     "output_type": "execute_result"
    }
   ],
   "source": [
    "from sklearn.linear_model import LinearRegression\n",
    "from sklearn.metrics import mean_squared_error\n",
    "\n",
    "lin_reg = LinearRegression()\n",
    "lin_reg.fit(housing_prepared, housing_labels)\n",
    "housing_predictions = lin_reg.predict(housing_prepared)\n",
    "lin_mse = mean_squared_error(housing_labels, housing_predictions)\n",
    "np.sqrt(lin_mse)"
   ]
  },
  {
   "cell_type": "code",
   "execution_count": 13,
   "id": "c864488d",
   "metadata": {},
   "outputs": [
    {
     "data": {
      "text/plain": [
       "SVR()"
      ]
     },
     "execution_count": 13,
     "metadata": {},
     "output_type": "execute_result"
    },
    {
     "data": {
      "text/plain": [
       "118578.69234925653"
      ]
     },
     "execution_count": 13,
     "metadata": {},
     "output_type": "execute_result"
    }
   ],
   "source": [
    "from sklearn.svm import SVR\n",
    "from sklearn.metrics import mean_squared_error\n",
    "\n",
    "svm_reg = SVR()\n",
    "svm_reg.fit(housing_prepared, housing_labels)\n",
    "housing_predictions = svm_reg.predict(housing_prepared)\n",
    "lin_mse = mean_squared_error(housing_labels, housing_predictions)\n",
    "np.sqrt(lin_mse)"
   ]
  },
  {
   "cell_type": "code",
   "execution_count": 18,
   "id": "cdc19002",
   "metadata": {
    "scrolled": false
   },
   "outputs": [
    {
     "name": "stdout",
     "output_type": "stream",
     "text": [
      "Fitting 5 folds for each of 10 candidates, totalling 50 fits\n",
      "[CV 1/5; 1/10] START C=1000.0, gamma=3.0, kernel=rbf............................\n",
      "[CV 1/5; 1/10] END C=1000.0, gamma=3.0, kernel=rbf;, score=(train=-12971632079.206, test=-13029519140.472) total time=  33.0s\n",
      "[CV 2/5; 1/10] START C=1000.0, gamma=3.0, kernel=rbf............................\n",
      "[CV 2/5; 1/10] END C=1000.0, gamma=3.0, kernel=rbf;, score=(train=-12921270058.635, test=-12724809714.777) total time=  33.7s\n",
      "[CV 3/5; 1/10] START C=1000.0, gamma=3.0, kernel=rbf............................\n",
      "[CV 3/5; 1/10] END C=1000.0, gamma=3.0, kernel=rbf;, score=(train=-12913466114.213, test=-13090310003.978) total time=  33.6s\n",
      "[CV 4/5; 1/10] START C=1000.0, gamma=3.0, kernel=rbf............................\n",
      "[CV 4/5; 1/10] END C=1000.0, gamma=3.0, kernel=rbf;, score=(train=-12873468881.557, test=-13174703543.730) total time=  34.7s\n",
      "[CV 5/5; 1/10] START C=1000.0, gamma=3.0, kernel=rbf............................\n",
      "[CV 5/5; 1/10] END C=1000.0, gamma=3.0, kernel=rbf;, score=(train=-12848122024.710, test=-13295938382.780) total time=  34.0s\n",
      "[CV 1/5; 2/10] START C=300.0, gamma=1.0, kernel=rbf.............................\n",
      "[CV 1/5; 2/10] END C=300.0, gamma=1.0, kernel=rbf;, score=(train=-12270868558.266, test=-12215842532.486) total time=  31.1s\n",
      "[CV 2/5; 2/10] START C=300.0, gamma=1.0, kernel=rbf.............................\n",
      "[CV 2/5; 2/10] END C=300.0, gamma=1.0, kernel=rbf;, score=(train=-12245619822.786, test=-11932257524.521) total time=  31.0s\n",
      "[CV 3/5; 2/10] START C=300.0, gamma=1.0, kernel=rbf.............................\n",
      "[CV 3/5; 2/10] END C=300.0, gamma=1.0, kernel=rbf;, score=(train=-12214737058.663, test=-12293412148.921) total time=  30.5s\n",
      "[CV 4/5; 2/10] START C=300.0, gamma=1.0, kernel=rbf.............................\n",
      "[CV 4/5; 2/10] END C=300.0, gamma=1.0, kernel=rbf;, score=(train=-12180805331.895, test=-12350533422.465) total time=  31.0s\n",
      "[CV 5/5; 2/10] START C=300.0, gamma=1.0, kernel=rbf.............................\n",
      "[CV 5/5; 2/10] END C=300.0, gamma=1.0, kernel=rbf;, score=(train=-12141061646.995, test=-12474636514.250) total time=  31.3s\n",
      "[CV 1/5; 3/10] START C=300.0, gamma=0.3, kernel=rbf.............................\n",
      "[CV 1/5; 3/10] END C=300.0, gamma=0.3, kernel=rbf;, score=(train=-9097219052.208, test=-8978550220.354) total time=  12.3s\n",
      "[CV 2/5; 3/10] START C=300.0, gamma=0.3, kernel=rbf.............................\n",
      "[CV 2/5; 3/10] END C=300.0, gamma=0.3, kernel=rbf;, score=(train=-9088088844.656, test=-8810330144.929) total time=  10.9s\n",
      "[CV 3/5; 3/10] START C=300.0, gamma=0.3, kernel=rbf.............................\n",
      "[CV 3/5; 3/10] END C=300.0, gamma=0.3, kernel=rbf;, score=(train=-8987408781.218, test=-9125686935.901) total time=  10.6s\n",
      "[CV 4/5; 3/10] START C=300.0, gamma=0.3, kernel=rbf.............................\n",
      "[CV 4/5; 3/10] END C=300.0, gamma=0.3, kernel=rbf;, score=(train=-9042089505.212, test=-9138071302.516) total time=  10.5s\n",
      "[CV 5/5; 3/10] START C=300.0, gamma=0.3, kernel=rbf.............................\n",
      "[CV 5/5; 3/10] END C=300.0, gamma=0.3, kernel=rbf;, score=(train=-8991050104.668, test=-9288198936.017) total time=  10.7s\n",
      "[CV 1/5; 4/10] START C=1000.0, gamma=0.3, kernel=rbf............................\n",
      "[CV 1/5; 4/10] END C=1000.0, gamma=0.3, kernel=rbf;, score=(train=-6621530584.410, test=-6536059646.942) total time=  10.6s\n",
      "[CV 2/5; 4/10] START C=1000.0, gamma=0.3, kernel=rbf............................\n",
      "[CV 2/5; 4/10] END C=1000.0, gamma=0.3, kernel=rbf;, score=(train=-6611000756.236, test=-6453744321.317) total time=  10.5s\n",
      "[CV 3/5; 4/10] START C=1000.0, gamma=0.3, kernel=rbf............................\n",
      "[CV 3/5; 4/10] END C=1000.0, gamma=0.3, kernel=rbf;, score=(train=-6559427404.461, test=-6723799435.582) total time=  10.5s\n",
      "[CV 4/5; 4/10] START C=1000.0, gamma=0.3, kernel=rbf............................\n",
      "[CV 4/5; 4/10] END C=1000.0, gamma=0.3, kernel=rbf;, score=(train=-6601181361.663, test=-6672029449.725) total time=  10.6s\n",
      "[CV 5/5; 4/10] START C=1000.0, gamma=0.3, kernel=rbf............................\n",
      "[CV 5/5; 4/10] END C=1000.0, gamma=0.3, kernel=rbf;, score=(train=-6565040132.610, test=-6875117616.593) total time=  10.6s\n",
      "[CV 1/5; 5/10] START C=30000.0, kernel=linear...................................\n",
      "[CV 1/5; 5/10] END C=30000.0, kernel=linear;, score=(train=-4956204320.783, test=-4821098167.486) total time=  11.8s\n",
      "[CV 2/5; 5/10] START C=30000.0, kernel=linear...................................\n",
      "[CV 2/5; 5/10] END C=30000.0, kernel=linear;, score=(train=-4990554608.739, test=-4710655616.684) total time=  11.4s\n",
      "[CV 3/5; 5/10] START C=30000.0, kernel=linear...................................\n",
      "[CV 3/5; 5/10] END C=30000.0, kernel=linear;, score=(train=-4902018627.869, test=-4979661422.983) total time=  10.8s\n",
      "[CV 4/5; 5/10] START C=30000.0, kernel=linear...................................\n",
      "[CV 4/5; 5/10] END C=30000.0, kernel=linear;, score=(train=-4823487261.787, test=-5396834234.651) total time=  11.5s\n",
      "[CV 5/5; 5/10] START C=30000.0, kernel=linear...................................\n",
      "[CV 5/5; 5/10] END C=30000.0, kernel=linear;, score=(train=-4939490587.522, test=-4792794156.285) total time=  12.2s\n",
      "[CV 1/5; 6/10] START C=300.0, gamma=3.0, kernel=rbf.............................\n",
      "[CV 1/5; 6/10] END C=300.0, gamma=3.0, kernel=rbf;, score=(train=-13796106438.306, test=-13767908901.401) total time=  11.3s\n",
      "[CV 2/5; 6/10] START C=300.0, gamma=3.0, kernel=rbf.............................\n",
      "[CV 2/5; 6/10] END C=300.0, gamma=3.0, kernel=rbf;, score=(train=-13743718045.179, test=-13421419760.053) total time=  11.2s\n",
      "[CV 3/5; 6/10] START C=300.0, gamma=3.0, kernel=rbf.............................\n",
      "[CV 3/5; 6/10] END C=300.0, gamma=3.0, kernel=rbf;, score=(train=-13751617628.087, test=-13837695140.241) total time=  11.2s\n",
      "[CV 4/5; 6/10] START C=300.0, gamma=3.0, kernel=rbf.............................\n",
      "[CV 4/5; 6/10] END C=300.0, gamma=3.0, kernel=rbf;, score=(train=-13718104425.097, test=-13906933636.327) total time=  11.3s\n",
      "[CV 5/5; 6/10] START C=300.0, gamma=3.0, kernel=rbf.............................\n",
      "[CV 5/5; 6/10] END C=300.0, gamma=3.0, kernel=rbf;, score=(train=-13671106779.149, test=-14006000313.198) total time=  11.2s\n",
      "[CV 1/5; 7/10] START C=100.0, gamma=3.0, kernel=rbf.............................\n",
      "[CV 1/5; 7/10] END C=100.0, gamma=3.0, kernel=rbf;, score=(train=-14052803730.335, test=-13999900871.813) total time=  11.3s\n",
      "[CV 2/5; 7/10] START C=100.0, gamma=3.0, kernel=rbf.............................\n",
      "[CV 2/5; 7/10] END C=100.0, gamma=3.0, kernel=rbf;, score=(train=-14020170389.567, test=-13659148782.104) total time=  12.7s\n",
      "[CV 3/5; 7/10] START C=100.0, gamma=3.0, kernel=rbf.............................\n",
      "[CV 3/5; 7/10] END C=100.0, gamma=3.0, kernel=rbf;, score=(train=-14012677714.290, test=-14071637191.191) total time=  12.2s\n",
      "[CV 4/5; 7/10] START C=100.0, gamma=3.0, kernel=rbf.............................\n",
      "[CV 4/5; 7/10] END C=100.0, gamma=3.0, kernel=rbf;, score=(train=-13979195175.226, test=-14130077810.233) total time=  12.1s\n",
      "[CV 5/5; 7/10] START C=100.0, gamma=3.0, kernel=rbf.............................\n",
      "[CV 5/5; 7/10] END C=100.0, gamma=3.0, kernel=rbf;, score=(train=-13938155530.384, test=-14235836722.703) total time=  12.1s\n",
      "[CV 1/5; 8/10] START C=3000.0, kernel=linear....................................\n",
      "[CV 1/5; 8/10] END C=3000.0, kernel=linear;, score=(train=-4954831223.128, test=-4824601219.794) total time=   7.5s\n",
      "[CV 2/5; 8/10] START C=3000.0, kernel=linear....................................\n",
      "[CV 2/5; 8/10] END C=3000.0, kernel=linear;, score=(train=-4997629192.364, test=-4713771396.650) total time=   7.0s\n",
      "[CV 3/5; 8/10] START C=3000.0, kernel=linear....................................\n",
      "[CV 3/5; 8/10] END C=3000.0, kernel=linear;, score=(train=-4908405854.656, test=-4991434091.896) total time=   7.1s\n",
      "[CV 4/5; 8/10] START C=3000.0, kernel=linear....................................\n",
      "[CV 4/5; 8/10] END C=3000.0, kernel=linear;, score=(train=-4831332622.268, test=-5393026960.113) total time=   7.5s\n",
      "[CV 5/5; 8/10] START C=3000.0, kernel=linear....................................\n",
      "[CV 5/5; 8/10] END C=3000.0, kernel=linear;, score=(train=-4939725598.643, test=-4804203013.268) total time=   6.5s\n",
      "[CV 1/5; 9/10] START C=100.0, gamma=0.3, kernel=rbf.............................\n"
     ]
    },
    {
     "name": "stdout",
     "output_type": "stream",
     "text": [
      "[CV 1/5; 9/10] END C=100.0, gamma=0.3, kernel=rbf;, score=(train=-11396134008.883, test=-11298553094.792) total time=  11.1s\n",
      "[CV 2/5; 9/10] START C=100.0, gamma=0.3, kernel=rbf.............................\n",
      "[CV 2/5; 9/10] END C=100.0, gamma=0.3, kernel=rbf;, score=(train=-11362422260.408, test=-11006898542.698) total time=  13.4s\n",
      "[CV 3/5; 9/10] START C=100.0, gamma=0.3, kernel=rbf.............................\n",
      "[CV 3/5; 9/10] END C=100.0, gamma=0.3, kernel=rbf;, score=(train=-11316023624.939, test=-11412045343.613) total time=  11.4s\n",
      "[CV 4/5; 9/10] START C=100.0, gamma=0.3, kernel=rbf.............................\n",
      "[CV 4/5; 9/10] END C=100.0, gamma=0.3, kernel=rbf;, score=(train=-11301642166.036, test=-11424660346.536) total time=  10.9s\n",
      "[CV 5/5; 9/10] START C=100.0, gamma=0.3, kernel=rbf.............................\n",
      "[CV 5/5; 9/10] END C=100.0, gamma=0.3, kernel=rbf;, score=(train=-11286488720.084, test=-11581607955.157) total time=  10.9s\n",
      "[CV 1/5; 10/10] START C=10000.0, kernel=linear..................................\n",
      "[CV 1/5; 10/10] END C=10000.0, kernel=linear;, score=(train=-4956192771.422, test=-4822257513.169) total time=   8.2s\n",
      "[CV 2/5; 10/10] START C=10000.0, kernel=linear..................................\n",
      "[CV 2/5; 10/10] END C=10000.0, kernel=linear;, score=(train=-4993284111.447, test=-4710960881.790) total time=   8.3s\n",
      "[CV 3/5; 10/10] START C=10000.0, kernel=linear..................................\n",
      "[CV 3/5; 10/10] END C=10000.0, kernel=linear;, score=(train=-4906852758.434, test=-4983454805.128) total time=   8.3s\n",
      "[CV 4/5; 10/10] START C=10000.0, kernel=linear..................................\n",
      "[CV 4/5; 10/10] END C=10000.0, kernel=linear;, score=(train=-4826395960.700, test=-5393694327.631) total time=   7.9s\n",
      "[CV 5/5; 10/10] START C=10000.0, kernel=linear..................................\n",
      "[CV 5/5; 10/10] END C=10000.0, kernel=linear;, score=(train=-4941712264.952, test=-4794759408.600) total time=   8.1s\n"
     ]
    },
    {
     "data": {
      "text/plain": [
       "RandomizedSearchCV(cv=5, estimator=SVR(),\n",
       "                   param_distributions=[{'C': [3000.0, 10000.0, 30000.0],\n",
       "                                         'kernel': ['linear']},\n",
       "                                        {'C': [100.0, 300.0, 1000.0],\n",
       "                                         'gamma': [0.3, 1.0, 3.0],\n",
       "                                         'kernel': ['rbf']}],\n",
       "                   return_train_score=True, scoring='neg_mean_squared_error',\n",
       "                   verbose=20)"
      ]
     },
     "execution_count": 18,
     "metadata": {},
     "output_type": "execute_result"
    },
    {
     "data": {
      "text/plain": [
       "{'kernel': 'linear', 'C': 30000.0}"
      ]
     },
     "execution_count": 18,
     "metadata": {},
     "output_type": "execute_result"
    },
    {
     "data": {
      "text/plain": [
       "SVR(C=30000.0, kernel='linear')"
      ]
     },
     "execution_count": 18,
     "metadata": {},
     "output_type": "execute_result"
    },
    {
     "name": "stdout",
     "output_type": "stream",
     "text": [
      "114293.72754944804 {'kernel': 'rbf', 'gamma': 3.0, 'C': 1000.0}\n",
      "110694.78952746006 {'kernel': 'rbf', 'gamma': 1.0, 'C': 300.0}\n",
      "95226.92638084691 {'kernel': 'rbf', 'gamma': 0.3, 'C': 300.0}\n",
      "81560.7141584214 {'kernel': 'rbf', 'gamma': 0.3, 'C': 1000.0}\n",
      "70286.61835383571 {'kernel': 'linear', 'C': 30000.0}\n",
      "117422.27876448397 {'kernel': 'rbf', 'gamma': 3.0, 'C': 300.0}\n",
      "118403.2105798184 {'kernel': 'rbf', 'gamma': 3.0, 'C': 100.0}\n",
      "70323.59018383716 {'kernel': 'linear', 'C': 3000.0}\n",
      "106511.75079097725 {'kernel': 'rbf', 'gamma': 0.3, 'C': 100.0}\n",
      "70292.42766659604 {'kernel': 'linear', 'C': 10000.0}\n"
     ]
    }
   ],
   "source": [
    "from sklearn.model_selection import RandomizedSearchCV\n",
    "\n",
    "param_grid = [\n",
    "{'kernel': ['linear'], 'C': [3000., 10000., 30000.0]},\n",
    "{'kernel': ['rbf'], 'C': [ 100., 300., 1000.0],'gamma': [0.3, 1.0, 3.0]},\n",
    "]\n",
    "\n",
    "grid_search = RandomizedSearchCV(svm_reg, param_grid, cv=5, scoring='neg_mean_squared_error', \n",
    "                                 return_train_score=True, verbose=20)\n",
    "grid_search.fit(housing_prepared, housing_labels)\n",
    "\n",
    "grid_search.best_params_\n",
    "grid_search.best_estimator_\n",
    "cvres = grid_search.cv_results_\n",
    "for mean_score, params in zip(cvres[\"mean_test_score\"], cvres[\"params\"]):\n",
    "    print(np.sqrt(-mean_score), params)"
   ]
  },
  {
   "cell_type": "code",
   "execution_count": 19,
   "id": "89611b8d",
   "metadata": {},
   "outputs": [
    {
     "ename": "AttributeError",
     "evalue": "'SVR' object has no attribute 'feature_importances_'",
     "output_type": "error",
     "traceback": [
      "\u001b[1;31m---------------------------------------------------------------------------\u001b[0m",
      "\u001b[1;31mAttributeError\u001b[0m                            Traceback (most recent call last)",
      "\u001b[1;32m~\\AppData\\Local\\Temp/ipykernel_14784/4139435235.py\u001b[0m in \u001b[0;36m<module>\u001b[1;34m\u001b[0m\n\u001b[1;32m----> 1\u001b[1;33m \u001b[0mfeature_importances\u001b[0m \u001b[1;33m=\u001b[0m \u001b[0mgrid_search\u001b[0m\u001b[1;33m.\u001b[0m\u001b[0mbest_estimator_\u001b[0m\u001b[1;33m.\u001b[0m\u001b[0mfeature_importances_\u001b[0m\u001b[1;33m\u001b[0m\u001b[1;33m\u001b[0m\u001b[0m\n\u001b[0m\u001b[0;32m      2\u001b[0m \u001b[0mextra_attribs\u001b[0m \u001b[1;33m=\u001b[0m \u001b[1;33m[\u001b[0m\u001b[1;34m\"rooms_per_hhold\"\u001b[0m\u001b[1;33m,\u001b[0m \u001b[1;34m\"pop_per_hhold\"\u001b[0m\u001b[1;33m,\u001b[0m \u001b[1;34m\"bedrooms_per_room\"\u001b[0m\u001b[1;33m]\u001b[0m\u001b[1;33m\u001b[0m\u001b[1;33m\u001b[0m\u001b[0m\n\u001b[0;32m      3\u001b[0m \u001b[0mcat_encoder\u001b[0m \u001b[1;33m=\u001b[0m \u001b[0mfull_pipeline\u001b[0m\u001b[1;33m.\u001b[0m\u001b[0mnamed_transformers_\u001b[0m\u001b[1;33m[\u001b[0m\u001b[1;34m\"cat\"\u001b[0m\u001b[1;33m]\u001b[0m\u001b[1;33m\u001b[0m\u001b[1;33m\u001b[0m\u001b[0m\n\u001b[0;32m      4\u001b[0m \u001b[0mcat_one_hot_attribs\u001b[0m \u001b[1;33m=\u001b[0m \u001b[0mlist\u001b[0m\u001b[1;33m(\u001b[0m\u001b[0mcat_encoder\u001b[0m\u001b[1;33m.\u001b[0m\u001b[0mcategories_\u001b[0m\u001b[1;33m[\u001b[0m\u001b[1;36m0\u001b[0m\u001b[1;33m]\u001b[0m\u001b[1;33m)\u001b[0m\u001b[1;33m\u001b[0m\u001b[1;33m\u001b[0m\u001b[0m\n\u001b[0;32m      5\u001b[0m \u001b[0mattributes\u001b[0m \u001b[1;33m=\u001b[0m \u001b[0mnum_attribs\u001b[0m \u001b[1;33m+\u001b[0m \u001b[0mextra_attribs\u001b[0m \u001b[1;33m+\u001b[0m \u001b[0mcat_one_hot_attribs\u001b[0m\u001b[1;33m\u001b[0m\u001b[1;33m\u001b[0m\u001b[0m\n",
      "\u001b[1;31mAttributeError\u001b[0m: 'SVR' object has no attribute 'feature_importances_'"
     ]
    }
   ],
   "source": [
    "import jp"
   ]
  },
  {
   "cell_type": "code",
   "execution_count": null,
   "id": "3f3f802e",
   "metadata": {},
   "outputs": [],
   "source": []
  }
 ],
 "metadata": {
  "kernelspec": {
   "display_name": "Python 3 (ipykernel)",
   "language": "python",
   "name": "python3"
  },
  "language_info": {
   "codemirror_mode": {
    "name": "ipython",
    "version": 3
   },
   "file_extension": ".py",
   "mimetype": "text/x-python",
   "name": "python",
   "nbconvert_exporter": "python",
   "pygments_lexer": "ipython3",
   "version": "3.10.0"
  }
 },
 "nbformat": 4,
 "nbformat_minor": 5
}
