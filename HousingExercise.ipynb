{
 "cells": [
  {
   "cell_type": "code",
   "execution_count": 45,
   "id": "054487e6",
   "metadata": {},
   "outputs": [],
   "source": [
    "\n",
    "import os\n",
    "import tarfile\n",
    "import joblib\n",
    "import pandas as pd\n",
    "import numpy as np\n",
    "\n",
    "from IPython.core.interactiveshell import InteractiveShell\n",
    "from six.moves import urllib\n",
    "from scipy.stats import expon, reciprocal\n",
    "\n",
    "from sklearn.base import BaseEstimator, TransformerMixin\n",
    "from sklearn.compose import ColumnTransformer\n",
    "from sklearn.ensemble import RandomForestRegressor\n",
    "from sklearn.impute import SimpleImputer\n",
    "from sklearn.linear_model import LinearRegression\n",
    "from sklearn.metrics import mean_squared_error\n",
    "from sklearn.model_selection import RandomizedSearchCV\n",
    "from sklearn.model_selection import StratifiedShuffleSplit\n",
    "from sklearn.pipeline import Pipeline\n",
    "from sklearn.preprocessing import OneHotEncoder\n",
    "from sklearn.preprocessing import StandardScaler\n",
    "from sklearn.svm import SVR\n",
    "\n",
    "# block to run tests\n",
    "InteractiveShell.ast_node_interactivity = \"all\""
   ]
  },
  {
   "cell_type": "code",
   "execution_count": 46,
   "id": "52b28b38",
   "metadata": {},
   "outputs": [],
   "source": [
    "DOWNLOAD_ROOT = \"https://raw.githubusercontent.com/ageron/handson-ml2/master/\"\n",
    "HOUSING_PATH = os.path.join(\"datasets\", \"housing\")\n",
    "HOUSING_URL = DOWNLOAD_ROOT + \"datasets/housing/housing.tgz\"\n",
    "\n",
    "def fetch_housing_data():\n",
    "    if not os.path.isdir(HOUSING_PATH):\n",
    "        os.makedirs(HOUSING_PATH)\n",
    "    tgz_path = os.path.join(HOUSING_PATH, \"housing.tgz\")\n",
    "    urllib.request.urlretrieve(HOUSING_URL, tgz_path)\n",
    "    housing_tgz = tarfile.open(tgz_path)\n",
    "    housing_tgz.extractall(HOUSING_PATH)\n",
    "    housing_tgz.close()\n",
    "\n",
    "def load_housing_data( ):\n",
    "    csv_path = os.path.join(HOUSING_PATH, \"housing.csv\")\n",
    "    return pd.read_csv(csv_path)\n",
    "\n",
    "fetch_housing_data()\n",
    "housing = load_housing_data()"
   ]
  },
  {
   "cell_type": "code",
   "execution_count": 47,
   "id": "746c6af9",
   "metadata": {},
   "outputs": [],
   "source": [
    "housing[\"income_cat\"] = pd.cut(housing[\"median_income\"], bins = [0.,1.5,3.0,4.5,6,np.inf],labels=[1,2,3,4,5])\n",
    "stratfold = StratifiedShuffleSplit(n_splits=1, test_size=0.2, random_state=42)\n",
    "for train_index, test_index in stratfold.split(housing, housing[\"income_cat\"]):\n",
    "    strat_train_set = housing.loc[train_index]\n",
    "    strat_test_set = housing.loc[test_index]\n",
    "\n",
    "for set_ in (strat_train_set, strat_test_set, housing):\n",
    "    set_.drop(\"income_cat\", axis=1, inplace=True)    \n",
    "    \n",
    "housing = strat_train_set.drop(\"median_house_value\",axis = 1)\n",
    "\n",
    "housing_labels = strat_train_set[\"median_house_value\"].copy()"
   ]
  },
  {
   "cell_type": "code",
   "execution_count": 48,
   "id": "120852ea",
   "metadata": {},
   "outputs": [],
   "source": [
    "# imputer = SimpleImputer(strategy=\"median\")\n",
    "# housing_num = housing.drop(\"ocean_proximity\", axis=1)\n",
    "# imputer.fit(housing_num)\n",
    "\n",
    "# housing_tr = pd.DataFrame(imputer.transform(housing_num), columns=housing_num.columns)"
   ]
  },
  {
   "cell_type": "code",
   "execution_count": 49,
   "id": "229dd62e",
   "metadata": {},
   "outputs": [],
   "source": [
    "rooms_ix, bedrooms_ix, population_ix, households_ix = 3, 4, 5, 6\n",
    "\n",
    "class CombinedAttributesAdder(BaseEstimator, TransformerMixin):\n",
    "    def __init__(self, add_bedrooms_per_room = True):\n",
    "        self.add_bedrooms_per_room = add_bedrooms_per_room\n",
    "    \n",
    "    def fit(self, X, y=None):\n",
    "        return self\n",
    "    \n",
    "    def transform(self, X, y=None):\n",
    "        rooms_per_household = X[:, rooms_ix] / X[:, households_ix]\n",
    "        population_per_household = X[:, population_ix] / X[:, households_ix]\n",
    "        if self.add_bedrooms_per_room:\n",
    "            bedrooms_per_room = X[:, bedrooms_ix] / X[:, rooms_ix]\n",
    "            return np.c_[X, rooms_per_household, population_per_household,bedrooms_per_room]\n",
    "        else:\n",
    "            return np.c_[X, rooms_per_household, population_per_household]\n"
   ]
  },
  {
   "cell_type": "code",
   "execution_count": 50,
   "id": "4002cecd",
   "metadata": {},
   "outputs": [],
   "source": [
    "num_pipeline = Pipeline([\n",
    "    ('imputer', SimpleImputer(strategy=\"median\")),\n",
    "    ('attribs_adder', CombinedAttributesAdder()),\n",
    "    ('std_scaler', StandardScaler()),\n",
    "    ])\n",
    "\n",
    "num_attribs = list(housing_num)\n",
    "cat_attribs = [\"ocean_proximity\"]\n",
    "full_pipeline = ColumnTransformer([\n",
    "    (\"num\", num_pipeline, num_attribs),\n",
    "    (\"cat\", OneHotEncoder(), cat_attribs),\n",
    "    ])\n",
    "\n",
    "housing_prepared = full_pipeline.fit_transform(housing)"
   ]
  },
  {
   "cell_type": "code",
   "execution_count": 51,
   "id": "1ab299cf",
   "metadata": {},
   "outputs": [],
   "source": [
    "# lin_reg = LinearRegression()\n",
    "# lin_reg.fit(housing_prepared, housing_labels)\n",
    "# housing_predictions = lin_reg.predict(housing_prepared)\n",
    "# lin_mse = mean_squared_error(housing_labels, housing_predictions)\n",
    "# np.sqrt(lin_mse)"
   ]
  },
  {
   "cell_type": "code",
   "execution_count": 52,
   "id": "c864488d",
   "metadata": {},
   "outputs": [],
   "source": [
    "# svm_reg = SVR()\n",
    "# svm_reg.fit(housing_prepared, housing_labels)\n",
    "# housing_predictions = svm_reg.predict(housing_prepared)\n",
    "# lin_mse = mean_squared_error(housing_labels, housing_predictions)\n",
    "# np.sqrt(lin_mse)"
   ]
  },
  {
   "cell_type": "code",
   "execution_count": 53,
   "id": "cdc19002",
   "metadata": {
    "scrolled": true
   },
   "outputs": [],
   "source": [
    "# param_grid = {\n",
    "#         'kernel': ['linear', 'rbf'],\n",
    "#         'C': reciprocal(20, 200000),\n",
    "#         'gamma': expon(scale=1.0),\n",
    "#     }\n",
    "\n",
    "# grid_search = RandomizedSearchCV(svm_reg, param_grid, cv=5, scoring='neg_mean_squared_error', \n",
    "#                                  return_train_score=True, verbose=20)\n",
    "# grid_search.fit(housing_prepared, housing_labels)\n",
    "\n",
    "# grid_search.best_params_\n",
    "# grid_search.best_estimator_\n",
    "# cvres = grid_search.cv_results_\n",
    "# for mean_score, params in zip(cvres[\"mean_test_score\"], cvres[\"params\"]):\n",
    "#     print(np.sqrt(-mean_score), params)"
   ]
  },
  {
   "cell_type": "code",
   "execution_count": 54,
   "id": "89611b8d",
   "metadata": {},
   "outputs": [],
   "source": [
    "# joblib.dump(grid_search.best_estimator_,\"SVMRegressorBest.pkl\")\n",
    "svm_reg = joblib.load(\"SVMRegressorBest.pkl\")"
   ]
  },
  {
   "cell_type": "code",
   "execution_count": 55,
   "id": "f61756f6",
   "metadata": {},
   "outputs": [
    {
     "data": {
      "text/plain": [
       "RandomForestRegressor(max_features=6, n_estimators=30)"
      ]
     },
     "execution_count": 55,
     "metadata": {},
     "output_type": "execute_result"
    },
    {
     "data": {
      "text/plain": [
       "[(0.31848729404458526, 'median_income'),\n",
       " (0.1534594859381008, 'INLAND'),\n",
       " (0.11094704394039175, 'pop_per_hhold'),\n",
       " (0.08933110190804996, 'bedrooms_per_room'),\n",
       " (0.07456988736723429, 'longitude'),\n",
       " (0.06722766549947996, 'latitude'),\n",
       " (0.060268651392560366, 'rooms_per_hhold'),\n",
       " (0.0440516662856758, 'housing_median_age'),\n",
       " (0.01777383895447533, 'total_rooms'),\n",
       " (0.017485696918057632, 'total_bedrooms'),\n",
       " (0.01620861917764268, 'population'),\n",
       " (0.015417751820028185, 'households'),\n",
       " (0.00860920593322481, '<1H OCEAN'),\n",
       " (0.0035232529690518966, 'NEAR OCEAN'),\n",
       " (0.0025171234837905194, 'NEAR BAY'),\n",
       " (0.00012171436765082942, 'ISLAND')]"
      ]
     },
     "execution_count": 55,
     "metadata": {},
     "output_type": "execute_result"
    },
    {
     "data": {
      "text/plain": [
       "array(['longitude', 'median_income', 'pop_per_hhold', 'bedrooms_per_room',\n",
       "       'INLAND'], dtype='<U18')"
      ]
     },
     "execution_count": 55,
     "metadata": {},
     "output_type": "execute_result"
    }
   ],
   "source": [
    "# joblib.dump(RandomForestRegressor( max_features = 6 , n_estimators = 30),\"RandomForestRegressorBest.pkl\")\n",
    "\n",
    "forest_reg = joblib.load(\"RandomForestRegressorBest.pkl\")\n",
    "forest_reg.fit(housing_prepared, housing_labels)\n",
    "\n",
    "feature_importances = forest_reg.feature_importances_\n",
    "\n",
    "extra_attribs = [\"rooms_per_hhold\", \"pop_per_hhold\", \"bedrooms_per_room\"]\n",
    "cat_encoder = full_pipeline.named_transformers_[\"cat\"]\n",
    "cat_one_hot_attribs = list(cat_encoder.categories_[0])\n",
    "attributes = num_attribs + extra_attribs + cat_one_hot_attribs\n",
    "sorted_by_order = sorted(zip(feature_importances, attributes), reverse=True)\n",
    "sorted_by_order\n",
    "\n",
    "def choose_top_functions(arr,k):\n",
    "    k = min(k,len(np.array(arr)))\n",
    "    return np.sort(np.argpartition(np.array(arr), -k)[-k:])\n",
    "\n",
    "np.array(attributes)[choose_top_functions(feature_importances,5)]"
   ]
  },
  {
   "cell_type": "code",
   "execution_count": 64,
   "id": "a43d2814",
   "metadata": {},
   "outputs": [
    {
     "data": {
      "text/plain": [
       "array([[-0.94135046, -0.8936472 ,  0.00622264, -0.12112176,  1.        ],\n",
       "       [ 1.17178212,  1.292168  , -0.04081077, -0.81086696,  0.        ],\n",
       "       [ 0.26758118, -0.52543365, -0.07537122, -0.33827252,  1.        ],\n",
       "       ...,\n",
       "       [-1.5707942 , -0.36547546, -0.03743619,  0.32286937,  0.        ],\n",
       "       [-1.56080303,  0.16826095, -0.05915604, -0.45702273,  0.        ],\n",
       "       [-1.28105026, -0.390569  ,  0.00657083, -0.12169672,  1.        ]])"
      ]
     },
     "execution_count": 64,
     "metadata": {},
     "output_type": "execute_result"
    }
   ],
   "source": [
    "class RemoveUnnecessaryFeatures(BaseEstimator, TransformerMixin):\n",
    "    \n",
    "    def __init__(self, feature_importance, k = 5 ):\n",
    "        self.feature_importance = feature_importance\n",
    "        self.k = k\n",
    "    \n",
    "    def fit(self, X, y=None):\n",
    "        self.feature_ind = choose_top_functions(self.feature_importance,self.k)\n",
    "        return self\n",
    "    \n",
    "    def transform(self, X, y=None):\n",
    "        return X[:,self.feature_ind]\n",
    "    \n",
    "select_top = RemoveUnnecessaryFeatures(feature_importances)\n",
    "select_top.fit_transform(housing_prepared)"
   ]
  },
  {
   "cell_type": "code",
   "execution_count": null,
   "id": "7573b0bb",
   "metadata": {},
   "outputs": [],
   "source": []
  }
 ],
 "metadata": {
  "kernelspec": {
   "display_name": "Python 3 (ipykernel)",
   "language": "python",
   "name": "python3"
  },
  "language_info": {
   "codemirror_mode": {
    "name": "ipython",
    "version": 3
   },
   "file_extension": ".py",
   "mimetype": "text/x-python",
   "name": "python",
   "nbconvert_exporter": "python",
   "pygments_lexer": "ipython3",
   "version": "3.10.0"
  }
 },
 "nbformat": 4,
 "nbformat_minor": 5
}
