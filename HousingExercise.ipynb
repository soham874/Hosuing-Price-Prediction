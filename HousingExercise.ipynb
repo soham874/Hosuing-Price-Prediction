{
 "cells": [
  {
   "cell_type": "code",
   "execution_count": 22,
   "id": "94b44e64",
   "metadata": {},
   "outputs": [],
   "source": [
    "\n",
    "import os\n",
    "import tarfile\n",
    "import joblib\n",
    "import pandas as pd\n",
    "import numpy as np\n",
    "\n",
    "from IPython.core.interactiveshell import InteractiveShell\n",
    "from six.moves import urllib\n",
    "from scipy.stats import expon, reciprocal\n",
    "\n",
    "from sklearn.base import BaseEstimator, TransformerMixin\n",
    "from sklearn.compose import ColumnTransformer\n",
    "from sklearn.ensemble import RandomForestRegressor\n",
    "from sklearn.impute import SimpleImputer\n",
    "from sklearn.linear_model import LinearRegression\n",
    "from sklearn.metrics import mean_squared_error\n",
    "from sklearn.model_selection import RandomizedSearchCV\n",
    "from sklearn.model_selection import StratifiedShuffleSplit\n",
    "from sklearn.pipeline import Pipeline\n",
    "from sklearn.preprocessing import OneHotEncoder\n",
    "from sklearn.preprocessing import StandardScaler\n",
    "from sklearn.svm import SVR\n",
    "\n",
    "# block to run tests\n",
    "InteractiveShell.ast_node_interactivity = \"all\""
   ]
  },
  {
   "cell_type": "code",
   "execution_count": 23,
   "id": "52b28b38",
   "metadata": {},
   "outputs": [],
   "source": [
    "DOWNLOAD_ROOT = \"https://raw.githubusercontent.com/ageron/handson-ml2/master/\"\n",
    "HOUSING_PATH = os.path.join(\"datasets\", \"housing\")\n",
    "HOUSING_URL = DOWNLOAD_ROOT + \"datasets/housing/housing.tgz\"\n",
    "\n",
    "def fetch_housing_data():\n",
    "    if not os.path.isdir(HOUSING_PATH):\n",
    "        os.makedirs(HOUSING_PATH)\n",
    "    tgz_path = os.path.join(HOUSING_PATH, \"housing.tgz\")\n",
    "    urllib.request.urlretrieve(HOUSING_URL, tgz_path)\n",
    "    housing_tgz = tarfile.open(tgz_path)\n",
    "    housing_tgz.extractall(HOUSING_PATH)\n",
    "    housing_tgz.close()\n",
    "\n",
    "def load_housing_data( ):\n",
    "    csv_path = os.path.join(HOUSING_PATH, \"housing.csv\")\n",
    "    return pd.read_csv(csv_path)\n",
    "\n",
    "fetch_housing_data()\n",
    "housing = load_housing_data()"
   ]
  },
  {
   "cell_type": "code",
   "execution_count": 24,
   "id": "746c6af9",
   "metadata": {},
   "outputs": [],
   "source": [
    "housing[\"income_cat\"] = pd.cut(housing[\"median_income\"], bins = [0.,1.5,3.0,4.5,6,np.inf],labels=[1,2,3,4,5])\n",
    "stratfold = StratifiedShuffleSplit(n_splits=1, test_size=0.2, random_state=42)\n",
    "for train_index, test_index in stratfold.split(housing, housing[\"income_cat\"]):\n",
    "    strat_train_set = housing.loc[train_index]\n",
    "    strat_test_set = housing.loc[test_index]\n",
    "\n",
    "for set_ in (strat_train_set, strat_test_set, housing):\n",
    "    set_.drop(\"income_cat\", axis=1, inplace=True)    \n",
    "    \n",
    "housing = strat_train_set.drop(\"median_house_value\",axis = 1)\n",
    "housing_num = housing.drop(\"ocean_proximity\", axis=1)\n",
    "\n",
    "housing_labels = strat_train_set[\"median_house_value\"].copy()"
   ]
  },
  {
   "cell_type": "code",
   "execution_count": 25,
   "id": "120852ea",
   "metadata": {},
   "outputs": [],
   "source": [
    "# imputer = SimpleImputer(strategy=\"median\")\n",
    "# \n",
    "# imputer.fit(housing_num)\n",
    "\n",
    "# housing_tr = pd.DataFrame(imputer.transform(housing_num), columns=housing_num.columns)"
   ]
  },
  {
   "cell_type": "code",
   "execution_count": 26,
   "id": "229dd62e",
   "metadata": {},
   "outputs": [],
   "source": [
    "rooms_ix, bedrooms_ix, population_ix, households_ix = 3, 4, 5, 6\n",
    "\n",
    "class CombinedAttributesAdder(BaseEstimator, TransformerMixin):\n",
    "    def __init__(self, add_bedrooms_per_room = True):\n",
    "        self.add_bedrooms_per_room = add_bedrooms_per_room\n",
    "    \n",
    "    def fit(self, X, y=None):\n",
    "        return self\n",
    "    \n",
    "    def transform(self, X, y=None):\n",
    "        rooms_per_household = X[:, rooms_ix] / X[:, households_ix]\n",
    "        population_per_household = X[:, population_ix] / X[:, households_ix]\n",
    "        if self.add_bedrooms_per_room:\n",
    "            bedrooms_per_room = X[:, bedrooms_ix] / X[:, rooms_ix]\n",
    "            return np.c_[X, rooms_per_household, population_per_household,bedrooms_per_room]\n",
    "        else:\n",
    "            return np.c_[X, rooms_per_household, population_per_household]\n"
   ]
  },
  {
   "cell_type": "code",
   "execution_count": 27,
   "id": "4002cecd",
   "metadata": {},
   "outputs": [],
   "source": [
    "num_pipeline = Pipeline([\n",
    "    ('imputer', SimpleImputer(strategy=\"median\")),\n",
    "    ('attribs_adder', CombinedAttributesAdder()),\n",
    "    ('std_scaler', StandardScaler()),\n",
    "    ])\n",
    "\n",
    "housing_num = housing.drop(\"ocean_proximity\", axis=1)\n",
    "num_attribs = list(housing_num)\n",
    "cat_attribs = [\"ocean_proximity\"]\n",
    "full_pipeline = ColumnTransformer([\n",
    "    (\"num\", num_pipeline, num_attribs),\n",
    "    (\"cat\", OneHotEncoder(), cat_attribs),\n",
    "    ])\n",
    "\n",
    "housing_prepared = full_pipeline.fit_transform(housing)"
   ]
  },
  {
   "cell_type": "code",
   "execution_count": 28,
   "id": "1ab299cf",
   "metadata": {},
   "outputs": [],
   "source": [
    "# lin_reg = LinearRegression()\n",
    "# lin_reg.fit(housing_prepared, housing_labels)\n",
    "# housing_predictions = lin_reg.predict(housing_prepared)\n",
    "# lin_mse = mean_squared_error(housing_labels, housing_predictions)\n",
    "# np.sqrt(lin_mse)"
   ]
  },
  {
   "cell_type": "code",
   "execution_count": 29,
   "id": "c864488d",
   "metadata": {},
   "outputs": [],
   "source": [
    "# svm_reg = SVR()\n",
    "# svm_reg.fit(housing_prepared, housing_labels)\n",
    "# housing_predictions = svm_reg.predict(housing_prepared)\n",
    "# lin_mse = mean_squared_error(housing_labels, housing_predictions)\n",
    "# np.sqrt(lin_mse)"
   ]
  },
  {
   "cell_type": "code",
   "execution_count": 30,
   "id": "cdc19002",
   "metadata": {
    "scrolled": true
   },
   "outputs": [],
   "source": [
    "# param_grid = {\n",
    "#         'kernel': ['linear', 'rbf'],\n",
    "#         'C': reciprocal(20, 200000),\n",
    "#         'gamma': expon(scale=1.0),\n",
    "#     }\n",
    "\n",
    "# grid_search = RandomizedSearchCV(svm_reg, param_grid, cv=5, scoring='neg_mean_squared_error', \n",
    "#                                  return_train_score=True, verbose=20)\n",
    "# grid_search.fit(housing_prepared, housing_labels)\n",
    "\n",
    "# grid_search.best_params_\n",
    "# grid_search.best_estimator_\n",
    "# cvres = grid_search.cv_results_\n",
    "# for mean_score, params in zip(cvres[\"mean_test_score\"], cvres[\"params\"]):\n",
    "#     print(np.sqrt(-mean_score), params)"
   ]
  },
  {
   "cell_type": "code",
   "execution_count": 31,
   "id": "89611b8d",
   "metadata": {},
   "outputs": [],
   "source": [
    "# joblib.dump(grid_search.best_estimator_,\"SVMRegressorBest.pkl\")\n",
    "svm_reg = joblib.load(\"SVMRegressorBest.pkl\")"
   ]
  },
  {
   "cell_type": "code",
   "execution_count": 32,
   "id": "f61756f6",
   "metadata": {},
   "outputs": [
    {
     "data": {
      "text/plain": [
       "RandomForestRegressor(max_features=6, n_estimators=30)"
      ]
     },
     "execution_count": 32,
     "metadata": {},
     "output_type": "execute_result"
    },
    {
     "data": {
      "text/plain": [
       "[(0.31306645153060586, 'median_income'),\n",
       " (0.14802534880324367, 'INLAND'),\n",
       " (0.10824272613559285, 'pop_per_hhold'),\n",
       " (0.09048306307025047, 'bedrooms_per_room'),\n",
       " (0.07654205861970093, 'longitude'),\n",
       " (0.06911013877987997, 'latitude'),\n",
       " (0.0666394121320632, 'rooms_per_hhold'),\n",
       " (0.04420377067942339, 'housing_median_age'),\n",
       " (0.017846242073912787, 'total_rooms'),\n",
       " (0.017051257438964816, 'population'),\n",
       " (0.016131612202566252, 'total_bedrooms'),\n",
       " (0.015929101967177336, 'households'),\n",
       " (0.009265918630860714, '<1H OCEAN'),\n",
       " (0.004559424859167977, 'NEAR OCEAN'),\n",
       " (0.002875896782356411, 'NEAR BAY'),\n",
       " (2.75762942334748e-05, 'ISLAND')]"
      ]
     },
     "execution_count": 32,
     "metadata": {},
     "output_type": "execute_result"
    }
   ],
   "source": [
    "# joblib.dump(RandomForestRegressor( max_features = 6 , n_estimators = 30),\"RandomForestRegressorBest.pkl\")\n",
    "\n",
    "forest_reg = joblib.load(\"RandomForestRegressorBest.pkl\")\n",
    "forest_reg.fit(housing_prepared, housing_labels)\n",
    "\n",
    "feature_importances = forest_reg.feature_importances_\n",
    "\n",
    "extra_attribs = [\"rooms_per_hhold\", \"pop_per_hhold\", \"bedrooms_per_room\"]\n",
    "cat_encoder = full_pipeline.named_transformers_[\"cat\"]\n",
    "cat_one_hot_attribs = list(cat_encoder.categories_[0])\n",
    "attributes = num_attribs + extra_attribs + cat_one_hot_attribs\n",
    "sorted_by_order = sorted(zip(feature_importances, attributes), reverse=True)\n",
    "sorted_by_order\n",
    "\n",
    "def choose_top_functions(arr,k):\n",
    "    k = min(k,len(np.array(arr)))\n",
    "    return np.sort(np.argpartition(np.array(arr), -k)[-k:])\n",
    "\n",
    "# np.array(attributes)[choose_top_functions(feature_importances,5)]"
   ]
  },
  {
   "cell_type": "code",
   "execution_count": 33,
   "id": "010dbdca",
   "metadata": {},
   "outputs": [],
   "source": [
    "class RemoveUnnecessaryFeatures(BaseEstimator, TransformerMixin):\n",
    "    \n",
    "    def __init__(self, feature_importance, k = 5 ):\n",
    "        self.feature_importance = feature_importance\n",
    "        self.k = k\n",
    "    \n",
    "    def fit(self, X, y=None):\n",
    "        self.feature_ind = choose_top_functions(self.feature_importance,self.k)\n",
    "        return self\n",
    "    \n",
    "    def transform(self, X, y=None):\n",
    "        return X[:,self.feature_ind]\n",
    "    \n",
    "# select_top = RemoveUnnecessaryFeatures(feature_importances)\n",
    "# select_top.fit_transform(housing_prepared)\n",
    "\n",
    "transform_and_choose_top = Pipeline([\n",
    "    ('prepare',full_pipeline),\n",
    "    ('choose_top',RemoveUnnecessaryFeatures(feature_importances,6))\n",
    "])\n",
    "\n",
    "housing_prepared_and_chosen = transform_and_choose_top.fit_transform(housing)"
   ]
  },
  {
   "cell_type": "code",
   "execution_count": 34,
   "id": "b9f37e58",
   "metadata": {},
   "outputs": [
    {
     "data": {
      "text/plain": [
       "Pipeline(steps=[('tranform_choose',\n",
       "                 Pipeline(steps=[('prepare',\n",
       "                                  ColumnTransformer(transformers=[('num',\n",
       "                                                                   Pipeline(steps=[('imputer',\n",
       "                                                                                    SimpleImputer(strategy='median')),\n",
       "                                                                                   ('attribs_adder',\n",
       "                                                                                    CombinedAttributesAdder()),\n",
       "                                                                                   ('std_scaler',\n",
       "                                                                                    StandardScaler())]),\n",
       "                                                                   ['longitude',\n",
       "                                                                    'latitude',\n",
       "                                                                    'housing_median_age',\n",
       "                                                                    'total_rooms',\n",
       "                                                                    'total_bedrooms',\n",
       "                                                                    'population',\n",
       "                                                                    'households',\n",
       "                                                                    'median_...\n",
       "                                  RemoveUnnecessaryFeatures(feature_importance=array([7.65420586e-02, 6.91101388e-02, 4.42037707e-02, 1.78462421e-02,\n",
       "       1.61316122e-02, 1.70512574e-02, 1.59291020e-02, 3.13066452e-01,\n",
       "       6.66394121e-02, 1.08242726e-01, 9.04830631e-02, 9.26591863e-03,\n",
       "       1.48025349e-01, 2.75762942e-05, 2.87589678e-03, 4.55942486e-03]),\n",
       "                                                            k=6))])),\n",
       "                ('svm_reg_fit',\n",
       "                 SVR(C=39637.36456854154, gamma=0.2514383593052343))])"
      ]
     },
     "execution_count": 34,
     "metadata": {},
     "output_type": "execute_result"
    }
   ],
   "source": [
    "transform_and_fit = Pipeline([\n",
    "    ('tranform_choose',transform_and_choose_top),\n",
    "    ('svm_reg_fit',svm_reg)\n",
    "])\n",
    "\n",
    "transform_and_fit.fit(housing,housing_labels)"
   ]
  },
  {
   "cell_type": "code",
   "execution_count": null,
   "id": "7e9af516",
   "metadata": {},
   "outputs": [],
   "source": []
  }
 ],
 "metadata": {
  "kernelspec": {
   "display_name": "Python 3 (ipykernel)",
   "language": "python",
   "name": "python3"
  },
  "language_info": {
   "codemirror_mode": {
    "name": "ipython",
    "version": 3
   },
   "file_extension": ".py",
   "mimetype": "text/x-python",
   "name": "python",
   "nbconvert_exporter": "python",
   "pygments_lexer": "ipython3",
   "version": "3.10.0"
  }
 },
 "nbformat": 4,
 "nbformat_minor": 5
}
