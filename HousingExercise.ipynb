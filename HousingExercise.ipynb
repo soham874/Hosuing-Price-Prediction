{
 "cells": [
  {
   "cell_type": "code",
   "execution_count": 1,
   "id": "a9fbe614",
   "metadata": {},
   "outputs": [],
   "source": [
    "# block to run tests\n",
    "from IPython.core.interactiveshell import InteractiveShell\n",
    "InteractiveShell.ast_node_interactivity = \"all\"\n",
    "\n",
    "import os\n",
    "import tarfile\n",
    "from six.moves import urllib\n",
    "import pandas as pd\n",
    "\n",
    "DOWNLOAD_ROOT = \"https://raw.githubusercontent.com/ageron/handson-ml2/master/\"\n",
    "HOUSING_PATH = os.path.join(\"datasets\", \"housing\")\n",
    "HOUSING_URL = DOWNLOAD_ROOT + \"datasets/housing/housing.tgz\"\n",
    "\n",
    "def fetch_housing_data():\n",
    "    if not os.path.isdir(HOUSING_PATH):\n",
    "        os.makedirs(HOUSING_PATH)\n",
    "    tgz_path = os.path.join(HOUSING_PATH, \"housing.tgz\")\n",
    "    urllib.request.urlretrieve(HOUSING_URL, tgz_path)\n",
    "    housing_tgz = tarfile.open(tgz_path)\n",
    "    housing_tgz.extractall(HOUSING_PATH)\n",
    "    housing_tgz.close()\n",
    "\n",
    "def load_housing_data( ):\n",
    "    csv_path = os.path.join(HOUSING_PATH, \"housing.csv\")\n",
    "    return pd.read_csv(csv_path)\n",
    "\n",
    "fetch_housing_data()\n",
    "housing = load_housing_data()"
   ]
  },
  {
   "cell_type": "code",
   "execution_count": 4,
   "id": "9fe24f3b",
   "metadata": {},
   "outputs": [],
   "source": [
    "from sklearn.model_selection import StratifiedShuffleSplit\n",
    "import numpy as np\n",
    "\n",
    "housing[\"income_cat\"] = pd.cut(housing[\"median_income\"], bins = [0.,1.5,3.0,4.5,6,np.inf],labels=[1,2,3,4,5])\n",
    "stratfold = StratifiedShuffleSplit(n_splits=1, test_size=0.2, random_state=42)\n",
    "for train_index, test_index in stratfold.split(housing, housing[\"income_cat\"]):\n",
    "    strat_train_set = housing.loc[train_index]\n",
    "    strat_test_set = housing.loc[test_index]\n",
    "\n",
    "for set_ in (strat_train_set, strat_test_set, housing):\n",
    "    set_.drop(\"income_cat\", axis=1, inplace=True)    \n",
    "    \n",
    "housing = strat_train_set"
   ]
  },
  {
   "cell_type": "code",
   "execution_count": null,
   "id": "7d075be9",
   "metadata": {},
   "outputs": [],
   "source": []
  }
 ],
 "metadata": {
  "kernelspec": {
   "display_name": "Python 3 (ipykernel)",
   "language": "python",
   "name": "python3"
  },
  "language_info": {
   "codemirror_mode": {
    "name": "ipython",
    "version": 3
   },
   "file_extension": ".py",
   "mimetype": "text/x-python",
   "name": "python",
   "nbconvert_exporter": "python",
   "pygments_lexer": "ipython3",
   "version": "3.10.0"
  }
 },
 "nbformat": 4,
 "nbformat_minor": 5
}
