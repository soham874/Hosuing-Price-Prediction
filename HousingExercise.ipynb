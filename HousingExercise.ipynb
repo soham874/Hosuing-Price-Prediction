{
 "cells": [
  {
   "cell_type": "code",
   "execution_count": 1,
   "id": "52b28b38",
   "metadata": {},
   "outputs": [],
   "source": [
    "# block to run tests\n",
    "from IPython.core.interactiveshell import InteractiveShell\n",
    "InteractiveShell.ast_node_interactivity = \"all\"\n",
    "\n",
    "import os\n",
    "import tarfile\n",
    "from six.moves import urllib\n",
    "import pandas as pd\n",
    "\n",
    "DOWNLOAD_ROOT = \"https://raw.githubusercontent.com/ageron/handson-ml2/master/\"\n",
    "HOUSING_PATH = os.path.join(\"datasets\", \"housing\")\n",
    "HOUSING_URL = DOWNLOAD_ROOT + \"datasets/housing/housing.tgz\"\n",
    "\n",
    "def fetch_housing_data():\n",
    "    if not os.path.isdir(HOUSING_PATH):\n",
    "        os.makedirs(HOUSING_PATH)\n",
    "    tgz_path = os.path.join(HOUSING_PATH, \"housing.tgz\")\n",
    "    urllib.request.urlretrieve(HOUSING_URL, tgz_path)\n",
    "    housing_tgz = tarfile.open(tgz_path)\n",
    "    housing_tgz.extractall(HOUSING_PATH)\n",
    "    housing_tgz.close()\n",
    "\n",
    "def load_housing_data( ):\n",
    "    csv_path = os.path.join(HOUSING_PATH, \"housing.csv\")\n",
    "    return pd.read_csv(csv_path)\n",
    "\n",
    "fetch_housing_data()\n",
    "housing = load_housing_data()"
   ]
  },
  {
   "cell_type": "code",
   "execution_count": 2,
   "id": "746c6af9",
   "metadata": {},
   "outputs": [],
   "source": [
    "from sklearn.model_selection import StratifiedShuffleSplit\n",
    "import numpy as np\n",
    "\n",
    "housing[\"income_cat\"] = pd.cut(housing[\"median_income\"], bins = [0.,1.5,3.0,4.5,6,np.inf],labels=[1,2,3,4,5])\n",
    "stratfold = StratifiedShuffleSplit(n_splits=1, test_size=0.2, random_state=42)\n",
    "for train_index, test_index in stratfold.split(housing, housing[\"income_cat\"]):\n",
    "    strat_train_set = housing.loc[train_index]\n",
    "    strat_test_set = housing.loc[test_index]\n",
    "\n",
    "for set_ in (strat_train_set, strat_test_set, housing):\n",
    "    set_.drop(\"income_cat\", axis=1, inplace=True)    \n",
    "    \n",
    "housing = strat_train_set.drop(\"median_house_value\",axis = 1)\n",
    "\n",
    "housing_labels = strat_train_set[\"median_house_value\"].copy()"
   ]
  },
  {
   "cell_type": "code",
   "execution_count": 3,
   "id": "120852ea",
   "metadata": {},
   "outputs": [
    {
     "data": {
      "text/plain": [
       "SimpleImputer(strategy='median')"
      ]
     },
     "execution_count": 3,
     "metadata": {},
     "output_type": "execute_result"
    }
   ],
   "source": [
    "from sklearn.impute import SimpleImputer\n",
    "\n",
    "imputer = SimpleImputer(strategy=\"median\")\n",
    "housing_num = housing.drop(\"ocean_proximity\", axis=1)\n",
    "imputer.fit(housing_num)\n",
    "\n",
    "housing_tr = pd.DataFrame(imputer.transform(housing_num), columns=housing_num.columns)"
   ]
  },
  {
   "cell_type": "code",
   "execution_count": 4,
   "id": "229dd62e",
   "metadata": {},
   "outputs": [],
   "source": [
    "from sklearn.base import BaseEstimator, TransformerMixin\n",
    "\n",
    "rooms_ix, bedrooms_ix, population_ix, households_ix = 3, 4, 5, 6\n",
    "\n",
    "class CombinedAttributesAdder(BaseEstimator, TransformerMixin):\n",
    "    def __init__(self, add_bedrooms_per_room = True):\n",
    "        self.add_bedrooms_per_room = add_bedrooms_per_room\n",
    "    \n",
    "    def fit(self, X, y=None):\n",
    "        return self\n",
    "    \n",
    "    def transform(self, X, y=None):\n",
    "        rooms_per_household = X[:, rooms_ix] / X[:, households_ix]\n",
    "        population_per_household = X[:, population_ix] / X[:, households_ix]\n",
    "        if self.add_bedrooms_per_room:\n",
    "            bedrooms_per_room = X[:, bedrooms_ix] / X[:, rooms_ix]\n",
    "            return np.c_[X, rooms_per_household, population_per_household,bedrooms_per_room]\n",
    "        else:\n",
    "            return np.c_[X, rooms_per_household, population_per_household]\n"
   ]
  },
  {
   "cell_type": "code",
   "execution_count": 5,
   "id": "4002cecd",
   "metadata": {},
   "outputs": [],
   "source": [
    "from sklearn.pipeline import Pipeline\n",
    "from sklearn.preprocessing import StandardScaler\n",
    "from sklearn.compose import ColumnTransformer\n",
    "from sklearn.preprocessing import OneHotEncoder\n",
    "\n",
    "num_pipeline = Pipeline([\n",
    "    ('imputer', SimpleImputer(strategy=\"median\")),\n",
    "    ('attribs_adder', CombinedAttributesAdder()),\n",
    "    ('std_scaler', StandardScaler()),\n",
    "    ])\n",
    "\n",
    "num_attribs = list(housing_num)\n",
    "cat_attribs = [\"ocean_proximity\"]\n",
    "full_pipeline = ColumnTransformer([\n",
    "    (\"num\", num_pipeline, num_attribs),\n",
    "    (\"cat\", OneHotEncoder(), cat_attribs),\n",
    "    ])\n",
    "\n",
    "housing_prepared = full_pipeline.fit_transform(housing)"
   ]
  },
  {
   "cell_type": "code",
   "execution_count": 6,
   "id": "1ab299cf",
   "metadata": {},
   "outputs": [
    {
     "data": {
      "text/plain": [
       "RandomForestRegressor(max_features=6, n_estimators=30)"
      ]
     },
     "execution_count": 6,
     "metadata": {},
     "output_type": "execute_result"
    },
    {
     "ename": "NameError",
     "evalue": "name 'mean_squared_error' is not defined",
     "output_type": "error",
     "traceback": [
      "\u001b[1;31m---------------------------------------------------------------------------\u001b[0m",
      "\u001b[1;31mNameError\u001b[0m                                 Traceback (most recent call last)",
      "\u001b[1;32m~\\AppData\\Local\\Temp/ipykernel_9308/1140478559.py\u001b[0m in \u001b[0;36m<module>\u001b[1;34m\u001b[0m\n\u001b[0;32m     12\u001b[0m \u001b[0mforest_reg\u001b[0m \u001b[1;33m=\u001b[0m \u001b[0mRandomForestRegressor\u001b[0m\u001b[1;33m(\u001b[0m \u001b[0mmax_features\u001b[0m \u001b[1;33m=\u001b[0m \u001b[1;36m6\u001b[0m \u001b[1;33m,\u001b[0m \u001b[0mn_estimators\u001b[0m \u001b[1;33m=\u001b[0m \u001b[1;36m30\u001b[0m\u001b[1;33m)\u001b[0m\u001b[1;33m\u001b[0m\u001b[1;33m\u001b[0m\u001b[0m\n\u001b[0;32m     13\u001b[0m \u001b[0mforest_reg\u001b[0m\u001b[1;33m.\u001b[0m\u001b[0mfit\u001b[0m\u001b[1;33m(\u001b[0m\u001b[0mhousing_prepared\u001b[0m\u001b[1;33m,\u001b[0m \u001b[0mhousing_labels\u001b[0m\u001b[1;33m)\u001b[0m\u001b[1;33m\u001b[0m\u001b[1;33m\u001b[0m\u001b[0m\n\u001b[1;32m---> 14\u001b[1;33m \u001b[0mran_mse\u001b[0m \u001b[1;33m=\u001b[0m \u001b[0mmean_squared_error\u001b[0m\u001b[1;33m(\u001b[0m\u001b[0mhousing_labels\u001b[0m\u001b[1;33m,\u001b[0m \u001b[0mforest_reg\u001b[0m\u001b[1;33m.\u001b[0m\u001b[0mpredict\u001b[0m\u001b[1;33m(\u001b[0m\u001b[0mhousing_prepared\u001b[0m\u001b[1;33m)\u001b[0m\u001b[1;33m)\u001b[0m\u001b[1;33m\u001b[0m\u001b[1;33m\u001b[0m\u001b[0m\n\u001b[0m\u001b[0;32m     15\u001b[0m \u001b[0mnp\u001b[0m\u001b[1;33m.\u001b[0m\u001b[0msqrt\u001b[0m\u001b[1;33m(\u001b[0m\u001b[0mran_mse\u001b[0m\u001b[1;33m)\u001b[0m\u001b[1;33m\u001b[0m\u001b[1;33m\u001b[0m\u001b[0m\n",
      "\u001b[1;31mNameError\u001b[0m: name 'mean_squared_error' is not defined"
     ]
    }
   ],
   "source": [
    "# from sklearn.linear_model import LinearRegression\n",
    "# from sklearn.metrics import mean_squared_error\n",
    "\n",
    "# lin_reg = LinearRegression()\n",
    "# lin_reg.fit(housing_prepared, housing_labels)\n",
    "# housing_predictions = lin_reg.predict(housing_prepared)\n",
    "# lin_mse = mean_squared_error(housing_labels, housing_predictions)\n",
    "# np.sqrt(lin_mse)"
   ]
  },
  {
   "cell_type": "code",
   "execution_count": 7,
   "id": "c864488d",
   "metadata": {},
   "outputs": [],
   "source": [
    "# from sklearn.svm import SVR\n",
    "# from sklearn.metrics import mean_squared_error\n",
    "\n",
    "# svm_reg = SVR()\n",
    "# svm_reg.fit(housing_prepared, housing_labels)\n",
    "# housing_predictions = svm_reg.predict(housing_prepared)\n",
    "# lin_mse = mean_squared_error(housing_labels, housing_predictions)\n",
    "# np.sqrt(lin_mse)"
   ]
  },
  {
   "cell_type": "code",
   "execution_count": 12,
   "id": "cdc19002",
   "metadata": {
    "scrolled": true
   },
   "outputs": [
    {
     "name": "stdout",
     "output_type": "stream",
     "text": [
      "Fitting 5 folds for each of 10 candidates, totalling 50 fits\n",
      "[CV 1/5; 1/10] START C=50204.96160909469, gamma=0.9646886306031986, kernel=linear\n",
      "[CV 1/5; 1/10] END C=50204.96160909469, gamma=0.9646886306031986, kernel=linear;, score=(train=-4955815351.814, test=-4820150425.236) total time=  46.5s\n",
      "[CV 2/5; 1/10] START C=50204.96160909469, gamma=0.9646886306031986, kernel=linear\n",
      "[CV 2/5; 1/10] END C=50204.96160909469, gamma=0.9646886306031986, kernel=linear;, score=(train=-4990046644.620, test=-4710830944.600) total time=  47.2s\n",
      "[CV 3/5; 1/10] START C=50204.96160909469, gamma=0.9646886306031986, kernel=linear\n",
      "[CV 3/5; 1/10] END C=50204.96160909469, gamma=0.9646886306031986, kernel=linear;, score=(train=-4901680131.295, test=-4979948463.147) total time=  44.0s\n",
      "[CV 4/5; 1/10] START C=50204.96160909469, gamma=0.9646886306031986, kernel=linear\n",
      "[CV 4/5; 1/10] END C=50204.96160909469, gamma=0.9646886306031986, kernel=linear;, score=(train=-4822268373.378, test=-5396907274.995) total time=  47.4s\n",
      "[CV 5/5; 1/10] START C=50204.96160909469, gamma=0.9646886306031986, kernel=linear\n",
      "[CV 5/5; 1/10] END C=50204.96160909469, gamma=0.9646886306031986, kernel=linear;, score=(train=-4939261984.654, test=-4792517898.139) total time=  50.4s\n",
      "[CV 1/5; 2/10] START C=39637.36456854154, gamma=0.2514383593052343, kernel=rbf..\n",
      "[CV 1/5; 2/10] END C=39637.36456854154, gamma=0.2514383593052343, kernel=rbf;, score=(train=-2852767799.243, test=-3234270021.490) total time=  35.0s\n",
      "[CV 2/5; 2/10] START C=39637.36456854154, gamma=0.2514383593052343, kernel=rbf..\n",
      "[CV 2/5; 2/10] END C=39637.36456854154, gamma=0.2514383593052343, kernel=rbf;, score=(train=-2898714434.518, test=-3157053612.667) total time=  32.1s\n",
      "[CV 3/5; 2/10] START C=39637.36456854154, gamma=0.2514383593052343, kernel=rbf..\n",
      "[CV 3/5; 2/10] END C=39637.36456854154, gamma=0.2514383593052343, kernel=rbf;, score=(train=-2887141316.504, test=-3117653624.162) total time=  34.4s\n",
      "[CV 4/5; 2/10] START C=39637.36456854154, gamma=0.2514383593052343, kernel=rbf..\n",
      "[CV 4/5; 2/10] END C=39637.36456854154, gamma=0.2514383593052343, kernel=rbf;, score=(train=-2860839784.692, test=-3305708242.188) total time=  34.9s\n",
      "[CV 5/5; 2/10] START C=39637.36456854154, gamma=0.2514383593052343, kernel=rbf..\n",
      "[CV 5/5; 2/10] END C=39637.36456854154, gamma=0.2514383593052343, kernel=rbf;, score=(train=-2858361449.800, test=-3299606899.863) total time=  35.1s\n",
      "[CV 1/5; 3/10] START C=65492.20660491219, gamma=0.31889689377250224, kernel=linear\n",
      "[CV 1/5; 3/10] END C=65492.20660491219, gamma=0.31889689377250224, kernel=linear;, score=(train=-4956077056.696, test=-4820302354.893) total time=  51.3s\n",
      "[CV 2/5; 3/10] START C=65492.20660491219, gamma=0.31889689377250224, kernel=linear\n",
      "[CV 2/5; 3/10] END C=65492.20660491219, gamma=0.31889689377250224, kernel=linear;, score=(train=-4989385120.016, test=-4710517306.537) total time=  56.5s\n",
      "[CV 3/5; 3/10] START C=65492.20660491219, gamma=0.31889689377250224, kernel=linear\n",
      "[CV 3/5; 3/10] END C=65492.20660491219, gamma=0.31889689377250224, kernel=linear;, score=(train=-4901687858.691, test=-4979955662.705) total time=  48.7s\n",
      "[CV 4/5; 3/10] START C=65492.20660491219, gamma=0.31889689377250224, kernel=linear\n",
      "[CV 4/5; 3/10] END C=65492.20660491219, gamma=0.31889689377250224, kernel=linear;, score=(train=-4822257963.468, test=-5396725026.706) total time=  54.7s\n",
      "[CV 5/5; 3/10] START C=65492.20660491219, gamma=0.31889689377250224, kernel=linear\n",
      "[CV 5/5; 3/10] END C=65492.20660491219, gamma=0.31889689377250224, kernel=linear;, score=(train=-4939077013.651, test=-4792435036.779) total time=  54.5s\n",
      "[CV 1/5; 4/10] START C=157.80753178176175, gamma=0.3786103402918297, kernel=rbf.\n",
      "[CV 1/5; 4/10] END C=157.80753178176175, gamma=0.3786103402918297, kernel=rbf;, score=(train=-11029377288.253, test=-10933695655.815) total time=  31.0s\n",
      "[CV 2/5; 4/10] START C=157.80753178176175, gamma=0.3786103402918297, kernel=rbf.\n",
      "[CV 2/5; 4/10] END C=157.80753178176175, gamma=0.3786103402918297, kernel=rbf;, score=(train=-10993349379.569, test=-10659648871.992) total time=  31.9s\n",
      "[CV 3/5; 4/10] START C=157.80753178176175, gamma=0.3786103402918297, kernel=rbf.\n",
      "[CV 3/5; 4/10] END C=157.80753178176175, gamma=0.3786103402918297, kernel=rbf;, score=(train=-10938990468.171, test=-11037080545.456) total time=  29.5s\n",
      "[CV 4/5; 4/10] START C=157.80753178176175, gamma=0.3786103402918297, kernel=rbf.\n",
      "[CV 4/5; 4/10] END C=157.80753178176175, gamma=0.3786103402918297, kernel=rbf;, score=(train=-10936491953.439, test=-11057822552.857) total time=  28.2s\n",
      "[CV 5/5; 4/10] START C=157.80753178176175, gamma=0.3786103402918297, kernel=rbf.\n",
      "[CV 5/5; 4/10] END C=157.80753178176175, gamma=0.3786103402918297, kernel=rbf;, score=(train=-10905306324.036, test=-11209271638.641) total time=  30.8s\n",
      "[CV 1/5; 5/10] START C=51.94017973264215, gamma=1.7672513911898342, kernel=linear\n",
      "[CV 1/5; 5/10] END C=51.94017973264215, gamma=1.7672513911898342, kernel=linear;, score=(train=-5355982168.460, test=-5346198695.910) total time=  17.1s\n",
      "[CV 2/5; 5/10] START C=51.94017973264215, gamma=1.7672513911898342, kernel=linear\n",
      "[CV 2/5; 5/10] END C=51.94017973264215, gamma=1.7672513911898342, kernel=linear;, score=(train=-5397367402.847, test=-5082080328.323) total time=  16.3s\n",
      "[CV 3/5; 5/10] START C=51.94017973264215, gamma=1.7672513911898342, kernel=linear\n",
      "[CV 3/5; 5/10] END C=51.94017973264215, gamma=1.7672513911898342, kernel=linear;, score=(train=-5309738403.346, test=-5405281460.598) total time=  17.3s\n",
      "[CV 4/5; 5/10] START C=51.94017973264215, gamma=1.7672513911898342, kernel=linear\n",
      "[CV 4/5; 5/10] END C=51.94017973264215, gamma=1.7672513911898342, kernel=linear;, score=(train=-5283456780.433, test=-5629823858.064) total time=  16.7s\n",
      "[CV 5/5; 5/10] START C=51.94017973264215, gamma=1.7672513911898342, kernel=linear\n",
      "[CV 5/5; 5/10] END C=51.94017973264215, gamma=1.7672513911898342, kernel=linear;, score=(train=-5327803695.371, test=-5279403275.923) total time=  16.7s\n",
      "[CV 1/5; 6/10] START C=20906.62254345822, gamma=0.09287184336093555, kernel=rbf.\n",
      "[CV 1/5; 6/10] END C=20906.62254345822, gamma=0.09287184336093555, kernel=rbf;, score=(train=-3414398598.944, test=-3600656970.269) total time=  30.9s\n",
      "[CV 2/5; 6/10] START C=20906.62254345822, gamma=0.09287184336093555, kernel=rbf.\n",
      "[CV 2/5; 6/10] END C=20906.62254345822, gamma=0.09287184336093555, kernel=rbf;, score=(train=-3450119293.175, test=-3412004017.420) total time=  22.7s\n",
      "[CV 3/5; 6/10] START C=20906.62254345822, gamma=0.09287184336093555, kernel=rbf.\n",
      "[CV 3/5; 6/10] END C=20906.62254345822, gamma=0.09287184336093555, kernel=rbf;, score=(train=-3448558467.889, test=-3485289721.348) total time=  31.9s\n",
      "[CV 4/5; 6/10] START C=20906.62254345822, gamma=0.09287184336093555, kernel=rbf.\n",
      "[CV 4/5; 6/10] END C=20906.62254345822, gamma=0.09287184336093555, kernel=rbf;, score=(train=-3404405599.779, test=-3644938803.699) total time=  31.2s\n",
      "[CV 5/5; 6/10] START C=20906.62254345822, gamma=0.09287184336093555, kernel=rbf.\n",
      "[CV 5/5; 6/10] END C=20906.62254345822, gamma=0.09287184336093555, kernel=rbf;, score=(train=-3407259445.239, test=-3527811870.966) total time=  31.4s\n",
      "[CV 1/5; 7/10] START C=951.4431143639041, gamma=1.5575111801851313, kernel=linear\n",
      "[CV 1/5; 7/10] END C=951.4431143639041, gamma=1.5575111801851313, kernel=linear;, score=(train=-4961522775.725, test=-4852304654.264) total time=  13.2s\n",
      "[CV 2/5; 7/10] START C=951.4431143639041, gamma=1.5575111801851313, kernel=linear\n",
      "[CV 2/5; 7/10] END C=951.4431143639041, gamma=1.5575111801851313, kernel=linear;, score=(train=-5007410193.487, test=-4708282125.518) total time=  13.1s\n",
      "[CV 3/5; 7/10] START C=951.4431143639041, gamma=1.5575111801851313, kernel=linear\n",
      "[CV 3/5; 7/10] END C=951.4431143639041, gamma=1.5575111801851313, kernel=linear;, score=(train=-4918552452.935, test=-5007178360.925) total time=  12.9s\n",
      "[CV 4/5; 7/10] START C=951.4431143639041, gamma=1.5575111801851313, kernel=linear\n",
      "[CV 4/5; 7/10] END C=951.4431143639041, gamma=1.5575111801851313, kernel=linear;, score=(train=-4848472463.599, test=-5383344508.126) total time=  13.6s\n",
      "[CV 5/5; 7/10] START C=951.4431143639041, gamma=1.5575111801851313, kernel=linear\n",
      "[CV 5/5; 7/10] END C=951.4431143639041, gamma=1.5575111801851313, kernel=linear;, score=(train=-4950497249.728, test=-4827809140.683) total time=  13.0s\n",
      "[CV 1/5; 8/10] START C=1058.6120738652057, gamma=0.8843371089460658, kernel=linear\n"
     ]
    },
    {
     "name": "stdout",
     "output_type": "stream",
     "text": [
      "[CV 1/5; 8/10] END C=1058.6120738652057, gamma=0.8843371089460658, kernel=linear;, score=(train=-4960809351.662, test=-4847493461.120) total time=  12.8s\n",
      "[CV 2/5; 8/10] START C=1058.6120738652057, gamma=0.8843371089460658, kernel=linear\n",
      "[CV 2/5; 8/10] END C=1058.6120738652057, gamma=0.8843371089460658, kernel=linear;, score=(train=-5007194870.538, test=-4712777013.467) total time=  12.4s\n",
      "[CV 3/5; 8/10] START C=1058.6120738652057, gamma=0.8843371089460658, kernel=linear\n",
      "[CV 3/5; 8/10] END C=1058.6120738652057, gamma=0.8843371089460658, kernel=linear;, score=(train=-4915463022.328, test=-5004132489.319) total time=  13.4s\n",
      "[CV 4/5; 8/10] START C=1058.6120738652057, gamma=0.8843371089460658, kernel=linear\n",
      "[CV 4/5; 8/10] END C=1058.6120738652057, gamma=0.8843371089460658, kernel=linear;, score=(train=-4849973373.597, test=-5389655408.971) total time=  12.1s\n",
      "[CV 5/5; 8/10] START C=1058.6120738652057, gamma=0.8843371089460658, kernel=linear\n",
      "[CV 5/5; 8/10] END C=1058.6120738652057, gamma=0.8843371089460658, kernel=linear;, score=(train=-4946682183.123, test=-4821593652.985) total time=  13.4s\n",
      "[CV 1/5; 9/10] START C=1106.7297512177352, gamma=1.0384841759526438, kernel=linear\n",
      "[CV 1/5; 9/10] END C=1106.7297512177352, gamma=1.0384841759526438, kernel=linear;, score=(train=-4961500588.011, test=-4846074805.683) total time=  14.1s\n",
      "[CV 2/5; 9/10] START C=1106.7297512177352, gamma=1.0384841759526438, kernel=linear\n",
      "[CV 2/5; 9/10] END C=1106.7297512177352, gamma=1.0384841759526438, kernel=linear;, score=(train=-5006198952.198, test=-4716943858.695) total time=  14.2s\n",
      "[CV 3/5; 9/10] START C=1106.7297512177352, gamma=1.0384841759526438, kernel=linear\n",
      "[CV 3/5; 9/10] END C=1106.7297512177352, gamma=1.0384841759526438, kernel=linear;, score=(train=-4914808109.006, test=-5003528613.085) total time=  14.1s\n",
      "[CV 4/5; 9/10] START C=1106.7297512177352, gamma=1.0384841759526438, kernel=linear\n",
      "[CV 4/5; 9/10] END C=1106.7297512177352, gamma=1.0384841759526438, kernel=linear;, score=(train=-4848989168.358, test=-5391620965.378) total time=  13.4s\n",
      "[CV 5/5; 9/10] START C=1106.7297512177352, gamma=1.0384841759526438, kernel=linear\n",
      "[CV 5/5; 9/10] END C=1106.7297512177352, gamma=1.0384841759526438, kernel=linear;, score=(train=-4946892298.477, test=-4821470093.402) total time=  13.6s\n",
      "[CV 1/5; 10/10] START C=1276.0307437021293, gamma=1.388005318004923, kernel=linear\n",
      "[CV 1/5; 10/10] END C=1276.0307437021293, gamma=1.388005318004923, kernel=linear;, score=(train=-4960920789.469, test=-4840758547.435) total time=  14.0s\n",
      "[CV 2/5; 10/10] START C=1276.0307437021293, gamma=1.388005318004923, kernel=linear\n",
      "[CV 2/5; 10/10] END C=1276.0307437021293, gamma=1.388005318004923, kernel=linear;, score=(train=-5005697694.183, test=-4717740050.631) total time=  13.8s\n",
      "[CV 3/5; 10/10] START C=1276.0307437021293, gamma=1.388005318004923, kernel=linear\n",
      "[CV 3/5; 10/10] END C=1276.0307437021293, gamma=1.388005318004923, kernel=linear;, score=(train=-4913800769.222, test=-5002295996.748) total time=  13.5s\n",
      "[CV 4/5; 10/10] START C=1276.0307437021293, gamma=1.388005318004923, kernel=linear\n",
      "[CV 4/5; 10/10] END C=1276.0307437021293, gamma=1.388005318004923, kernel=linear;, score=(train=-4845505575.192, test=-5392175185.163) total time=  13.9s\n",
      "[CV 5/5; 10/10] START C=1276.0307437021293, gamma=1.388005318004923, kernel=linear\n",
      "[CV 5/5; 10/10] END C=1276.0307437021293, gamma=1.388005318004923, kernel=linear;, score=(train=-4944838662.172, test=-4815599142.972) total time=  12.9s\n"
     ]
    },
    {
     "data": {
      "text/plain": [
       "RandomizedSearchCV(cv=5, estimator=SVR(C=30000.0, kernel='linear'),\n",
       "                   param_distributions={'C': <scipy.stats._distn_infrastructure.rv_frozen object at 0x0000012EECDE3CA0>,\n",
       "                                        'gamma': <scipy.stats._distn_infrastructure.rv_frozen object at 0x0000012EEE1EFF40>,\n",
       "                                        'kernel': ['linear', 'rbf']},\n",
       "                   return_train_score=True, scoring='neg_mean_squared_error',\n",
       "                   verbose=20)"
      ]
     },
     "execution_count": 12,
     "metadata": {},
     "output_type": "execute_result"
    },
    {
     "data": {
      "text/plain": [
       "{'C': 39637.36456854154, 'gamma': 0.2514383593052343, 'kernel': 'rbf'}"
      ]
     },
     "execution_count": 12,
     "metadata": {},
     "output_type": "execute_result"
    },
    {
     "data": {
      "text/plain": [
       "SVR(C=39637.36456854154, gamma=0.2514383593052343)"
      ]
     },
     "execution_count": 12,
     "metadata": {},
     "output_type": "execute_result"
    },
    {
     "name": "stdout",
     "output_type": "stream",
     "text": [
      "70285.63865558396 {'C': 50204.96160909469, 'gamma': 0.9646886306031986, 'kernel': 'linear'}\n",
      "56770.22529525292 {'C': 39637.36456854154, 'gamma': 0.2514383593052343, 'kernel': 'rbf'}\n",
      "70285.04163422027 {'C': 65492.20660491219, 'gamma': 0.31889689377250224, 'kernel': 'linear'}\n",
      "104783.12771125072 {'C': 157.80753178176175, 'gamma': 0.3786103402918297, 'kernel': 'rbf'}\n",
      "73133.83296233989 {'C': 51.94017973264215, 'gamma': 1.7672513911898342, 'kernel': 'linear'}\n",
      "59448.63561714737 {'C': 20906.62254345822, 'gamma': 0.09287184336093555, 'kernel': 'rbf'}\n",
      "70397.32777530182 {'C': 951.4431143639041, 'gamma': 1.5575111801851313, 'kernel': 'linear'}\n",
      "70392.68715692266 {'C': 1058.6120738652057, 'gamma': 0.8843371089460658, 'kernel': 'linear'}\n",
      "70398.34989009793 {'C': 1106.7297512177352, 'gamma': 1.0384841759526438, 'kernel': 'linear'}\n",
      "70382.62416669201 {'C': 1276.0307437021293, 'gamma': 1.388005318004923, 'kernel': 'linear'}\n"
     ]
    }
   ],
   "source": [
    "# from sklearn.model_selection import RandomizedSearchCV\n",
    "# from scipy.stats import expon, reciprocal\n",
    "\n",
    "# param_grid = {\n",
    "#         'kernel': ['linear', 'rbf'],\n",
    "#         'C': reciprocal(20, 200000),\n",
    "#         'gamma': expon(scale=1.0),\n",
    "#     }\n",
    "\n",
    "\n",
    "# grid_search = RandomizedSearchCV(svm_reg, param_grid, cv=5, scoring='neg_mean_squared_error', \n",
    "#                                  return_train_score=True, verbose=20)\n",
    "# grid_search.fit(housing_prepared, housing_labels)\n",
    "\n",
    "# grid_search.best_params_\n",
    "# grid_search.best_estimator_\n",
    "# cvres = grid_search.cv_results_\n",
    "# for mean_score, params in zip(cvres[\"mean_test_score\"], cvres[\"params\"]):\n",
    "#     print(np.sqrt(-mean_score), params)"
   ]
  },
  {
   "cell_type": "code",
   "execution_count": 14,
   "id": "89611b8d",
   "metadata": {},
   "outputs": [
    {
     "data": {
      "text/plain": [
       "['SVMRegressorBest.pkl']"
      ]
     },
     "execution_count": 14,
     "metadata": {},
     "output_type": "execute_result"
    }
   ],
   "source": [
    "# import joblib\n",
    "# joblib.dump(grid_search.best_estimator_,\"SVMRegressorBest.pkl\")\n",
    "\n",
    "svm_reg = joblib.load(\"SVMRegressorBest.pkl\")"
   ]
  },
  {
   "cell_type": "code",
   "execution_count": 8,
   "id": "f61756f6",
   "metadata": {},
   "outputs": [
    {
     "data": {
      "text/plain": [
       "RandomForestRegressor(max_features=6, n_estimators=30)"
      ]
     },
     "execution_count": 8,
     "metadata": {},
     "output_type": "execute_result"
    },
    {
     "data": {
      "text/plain": [
       "[(0.3089359470392112, 'median_income'),\n",
       " (0.15695055588887333, 'NEAR OCEAN'),\n",
       " (0.10607923850122121, 'INLAND'),\n",
       " (0.08947646114524932, 'ISLAND'),\n",
       " (0.0777104417974525, 'longitude'),\n",
       " (0.064868769609422, 'latitude'),\n",
       " (0.06352861174579011, '<1H OCEAN'),\n",
       " (0.04108662590240457, 'housing_median_age'),\n",
       " (0.01823052977321438, 'total_rooms'),\n",
       " (0.017688133828864923, 'population'),\n",
       " (0.016504130010740126, 'NEAR BAY'),\n",
       " (0.01548457803749655, 'households'),\n",
       " (0.015443633461259753, 'total_bedrooms')]"
      ]
     },
     "execution_count": 8,
     "metadata": {},
     "output_type": "execute_result"
    }
   ],
   "source": [
    "from sklearn.ensemble import RandomForestRegressor\n",
    "from sklearn.metrics import mean_squared_error\n",
    "\n",
    "forest_reg = RandomForestRegressor( max_features = 6 , n_estimators = 30)\n",
    "forest_reg.fit(housing_prepared, housing_labels)\n",
    "housing_predictions = svm_reg.predict(housing_prepared)\n",
    "lin_mse = mean_squared_error(housing_labels, housing_predictions)\n",
    "np.sqrt(lin_mse)\n",
    "\n",
    "feature_importances = forest_reg.feature_importances_\n",
    "# extra_attribs = [\"rooms_per_hhold\", \"pop_per_hhold\", \"bedrooms_per_room\"]\n",
    "cat_encoder = full_pipeline.named_transformers_[\"cat\"]\n",
    "cat_one_hot_attribs = list(cat_encoder.categories_[0])\n",
    "attributes = num_attribs + cat_one_hot_attribs\n",
    "sorted(zip(feature_importances, attributes), reverse=True)"
   ]
  },
  {
   "cell_type": "code",
   "execution_count": null,
   "id": "af275247",
   "metadata": {},
   "outputs": [],
   "source": []
  }
 ],
 "metadata": {
  "kernelspec": {
   "display_name": "Python 3 (ipykernel)",
   "language": "python",
   "name": "python3"
  },
  "language_info": {
   "codemirror_mode": {
    "name": "ipython",
    "version": 3
   },
   "file_extension": ".py",
   "mimetype": "text/x-python",
   "name": "python",
   "nbconvert_exporter": "python",
   "pygments_lexer": "ipython3",
   "version": "3.10.0"
  }
 },
 "nbformat": 4,
 "nbformat_minor": 5
}
